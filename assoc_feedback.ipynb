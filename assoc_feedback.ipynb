{
 "cells": [
  {
   "cell_type": "code",
   "execution_count": 2,
   "metadata": {
    "collapsed": true
   },
   "outputs": [],
   "source": [
    "import nengo\n",
    "import nengo.spa as spa\n",
    "\n",
    "import numpy as np\n",
    "\n",
    "import matplotlib.pyplot as plt\n",
    "%matplotlib inline\n",
    "\n",
    "from utils import gen_vecs\n",
    "from data_feed import BasicDataFeed\n",
    "\n",
    "import itertools\n",
    "import random"
   ]
  },
  {
   "cell_type": "code",
   "execution_count": 3,
   "metadata": {
    "collapsed": true
   },
   "outputs": [],
   "source": [
    "n_items = 4\n",
    "t_present = 0.5\n",
    "pause = 0.1\n",
    "D = 16\n",
    "dt = 0.001\n",
    "similarity = 0.9999\n",
    "\n",
    "recog_neurons = 500\n",
    "seed = 0\n",
    "spikes_synapse = 0.005\n",
    "\n",
    "t_train = (t_present+pause)*n_items\n",
    "t_test = 2*(t_present+pause)*n_items"
   ]
  },
  {
   "cell_type": "code",
   "execution_count": 4,
   "metadata": {},
   "outputs": [
    {
     "name": "stdout",
     "output_type": "stream",
     "text": [
      "['S0', 'S1', 'S2', 'S3']\n",
      "0.9999\n",
      "0.9999\n",
      "0.9999\n",
      "0.9999\n",
      "0.9999\n",
      "0.9999\n"
     ]
    }
   ],
   "source": [
    "vocab = spa.Vocabulary(D)\n",
    "\n",
    "targ_class = []\n",
    "\n",
    "stim_vecs = gen_vecs(n_items, D, similarity)\n",
    "stim_lbl = []\n",
    "\n",
    "for v_i, vec in enumerate(stim_vecs):\n",
    "    lbl = \"S%d\" % v_i\n",
    "    stim_lbl.append(lbl)\n",
    "    vocab.add(lbl, vec)\n",
    "\n",
    "    targ = np.zeros(n_items)\n",
    "    targ[v_i] = 1\n",
    "    targ_class.append(targ)\n",
    "\n",
    "print(stim_lbl)\n",
    "\n",
    "for s1, s2 in itertools.combinations(stim_lbl, 2):\n",
    "    print(np.dot(vocab.parse(s1).v, vocab.parse(s2).v))"
   ]
  },
  {
   "cell_type": "code",
   "execution_count": 5,
   "metadata": {
    "collapsed": true
   },
   "outputs": [],
   "source": [
    "def vocab_feed(idx, t):\n",
    "    return vocab.parse(stim_lbl[idx]).v"
   ]
  },
  {
   "cell_type": "markdown",
   "metadata": {},
   "source": [
    "# Associative Memory with Feedback"
   ]
  },
  {
   "cell_type": "code",
   "execution_count": 13,
   "metadata": {},
   "outputs": [],
   "source": [
    "df = BasicDataFeed(vocab_feed, np.eye(n_items), t_present, D, n_items, pause)\n",
    "\n",
    "with nengo.Network() as model:\n",
    "    in_nd = nengo.Node(df.feed)\n",
    "    cor = nengo.Node(df.get_answer)\n",
    "\n",
    "    assoc = nengo.networks.AssociativeMemory(input_vectors=stim_vecs, seed=seed)\n",
    "    assoc.add_wta_network()\n",
    "    \n",
    "    nengo.Connection(in_nd, assoc.input, synapse=None)\n",
    "    nengo.Connection(assoc.output, assoc.input, synapse=0.1, transform=1)\n",
    "    \n",
    "    p_in = nengo.Probe(in_nd, synapse=None)\n",
    "    p_out = nengo.Probe(assoc.output)\n",
    "    p_cor = nengo.Probe(cor)"
   ]
  },
  {
   "cell_type": "code",
   "execution_count": 14,
   "metadata": {},
   "outputs": [
    {
     "data": {
      "text/html": [
       "\n",
       "            <div style=\"\n",
       "                width: 100%;\n",
       "                border: 1px solid #cfcfcf;\n",
       "                border-radius: 4px;\n",
       "                text-align: center;\n",
       "                position: relative;\">\n",
       "              <div class=\"pb-text\" style=\"\n",
       "                  position: absolute;\n",
       "                  width: 100%;\">\n",
       "                Building finished in 0:00:01.\n",
       "              </div>\n",
       "              <div style=\"\n",
       "                  background-color: #bdd2e6;\n",
       "                  animation: progress 0.1s 1;\">\n",
       "                <style type=\"text/css\" scoped=\"scoped\">\n",
       "                    @keyframes progress {\n",
       "                        0% { width: 9.090909090909092%; }\n",
       "                        100% { width: 100.0%; }\n",
       "                </style>\n",
       "                &nbsp;\n",
       "              </div>\n",
       "            </div>"
      ]
     },
     "metadata": {},
     "output_type": "display_data"
    },
    {
     "data": {
      "text/html": [
       "\n",
       "            <div style=\"\n",
       "                width: 100%;\n",
       "                border: 1px solid #cfcfcf;\n",
       "                border-radius: 4px;\n",
       "                text-align: center;\n",
       "                position: relative;\">\n",
       "              <div class=\"pb-text\" style=\"\n",
       "                  position: absolute;\n",
       "                  width: 100%;\">\n",
       "                Simulating finished in 0:00:01.\n",
       "              </div>\n",
       "              <div style=\"\n",
       "                  background-color: #bdd2e6;\n",
       "                  animation: progress 0.1s 1;\">\n",
       "                <style type=\"text/css\" scoped=\"scoped\">\n",
       "                    @keyframes progress {\n",
       "                        0% { width: 0.0%; }\n",
       "                        100% { width: 100.0%; }\n",
       "                </style>\n",
       "                &nbsp;\n",
       "              </div>\n",
       "            </div>"
      ]
     },
     "metadata": {},
     "output_type": "display_data"
    }
   ],
   "source": [
    "with nengo.Simulator(model) as sim:\n",
    "    sim.run(t_train)"
   ]
  },
  {
   "cell_type": "code",
   "execution_count": 15,
   "metadata": {},
   "outputs": [
    {
     "data": {
      "text/plain": [
       "<matplotlib.legend.Legend at 0x7f4c62731128>"
      ]
     },
     "execution_count": 15,
     "metadata": {},
     "output_type": "execute_result"
    },
    {
     "data": {
      "image/png": "[encoded data removed]",
      "text/plain": [
       "<matplotlib.figure.Figure at 0x7f4ca47d8c50>"
      ]
     },
     "metadata": {},
     "output_type": "display_data"
    }
   ],
   "source": [
    "plt.plot(sim.trange(), spa.similarity(sim.data[p_in], stim_vecs))\n",
    "plt.ylim(0.999, 1.001)\n",
    "plt.legend(stim_lbl)"
   ]
  },
  {
   "cell_type": "code",
   "execution_count": 16,
   "metadata": {},
   "outputs": [
    {
     "data": {
      "text/plain": [
       "<matplotlib.legend.Legend at 0x7f4c604f0e10>"
      ]
     },
     "execution_count": 16,
     "metadata": {},
     "output_type": "execute_result"
    },
    {
     "data": {
      "image/png": "[encoded data removed]",
      "text/plain": [
       "<matplotlib.figure.Figure at 0x7f4c604f0f98>"
      ]
     },
     "metadata": {},
     "output_type": "display_data"
    }
   ],
   "source": [
    "plt.plot(sim.trange(), spa.similarity(sim.data[p_out], stim_vecs))\n",
    "plt.legend(stim_lbl)"
   ]
  },
  {
   "cell_type": "code",
   "execution_count": null,
   "metadata": {
    "collapsed": true
   },
   "outputs": [],
   "source": []
  }
 ],
 "metadata": {
  "kernelspec": {
   "display_name": "Python 3",
   "language": "python",
   "name": "python3"
  },
  "language_info": {
   "codemirror_mode": {
    "name": "ipython",
    "version": 3
   },
   "file_extension": ".py",
   "mimetype": "text/x-python",
   "name": "python",
   "nbconvert_exporter": "python",
   "pygments_lexer": "ipython3",
   "version": "3.5.3"
  }
 },
 "nbformat": 4,
 "nbformat_minor": 2
}
